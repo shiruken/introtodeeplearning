{
  "nbformat": 4,
  "nbformat_minor": 0,
  "metadata": {
    "colab": {
      "name": "RL.ipynb",
      "provenance": [],
      "collapsed_sections": [
        "jrI6q7RmWQam"
      ]
    },
    "kernelspec": {
      "name": "python3",
      "display_name": "Python 3"
    },
    "accelerator": "GPU"
  },
  "cells": [
    {
      "cell_type": "markdown",
      "metadata": {
        "id": "jrI6q7RmWQam",
        "colab_type": "text"
      },
      "source": [
        "<table align=\"center\">\n",
        "  <td align=\"center\"><a target=\"_blank\" href=\"http://introtodeeplearning.com\">\n",
        "        <img src=\"http://introtodeeplearning.com/images/colab/mit.png\" style=\"padding-bottom:5px;\" />\n",
        "      Visit MIT Deep Learning</a></td>\n",
        "  <td align=\"center\"><a target=\"_blank\" href=\"https://colab.research.google.com/github/shiruken/introtodeeplearning/blob/master/lab3/RL.ipynb\">\n",
        "        <img src=\"http://introtodeeplearning.com/images/colab/colab.png?v2.0\"  style=\"padding-bottom:5px;\" />Run in Google Colab</a></td>\n",
        "  <td align=\"center\"><a target=\"_blank\" href=\"https://github.com/shiruken/introtodeeplearning/blob/master/lab3/RL.ipynb\">\n",
        "        <img src=\"http://introtodeeplearning.com/images/colab/github.png\"  height=\"70px\" style=\"padding-bottom:5px;\"  />View Source on GitHub</a></td>\n",
        "</table>\n",
        "\n",
        "# Copyright Information"
      ]
    },
    {
      "cell_type": "code",
      "metadata": {
        "id": "wkd375upWYok",
        "colab_type": "code",
        "colab": {}
      },
      "source": [
        "# Copyright 2020 MIT 6.S191 Introduction to Deep Learning. All Rights Reserved.\n",
        "# \n",
        "# Licensed under the MIT License. You may not use this file except in compliance\n",
        "# with the License. Use and/or modification of this code outside of 6.S191 must\n",
        "# reference:\n",
        "#\n",
        "# © MIT 6.S191: Introduction to Deep Learning\n",
        "# http://introtodeeplearning.com\n",
        "#"
      ],
      "execution_count": 2,
      "outputs": []
    },
    {
      "cell_type": "markdown",
      "metadata": {
        "id": "WoXYKhfZMHiw",
        "colab_type": "text"
      },
      "source": [
        "# Laboratory 3: Reinforcement Learning\n",
        "\n",
        "Reinforcement learning (RL) is a subset of machine learning which poses learning problems as interactions between agents and environments. It often assumes agents have no prior knowledge of a world, so they must learn to navigate environments by optimizing a reward function. Within an environment, an agent can take certain actions and receive feedback, in the form of positive or negative rewards, with respect to their decision. As such, an agent's feedback loop is somewhat akin to the idea of \"trial and error\", or the manner in which a child might learn to distinguish between \"good\" and \"bad\" actions.\n",
        "\n",
        "In practical terms, our RL agent will interact with the environment by taking an action at each timestep, receiving a corresponding reward, and updating its state according to what it has \"learned\".  \n",
        "\n",
        "![alt text](https://www.kdnuggets.com/images/reinforcement-learning-fig1-700.jpg)\n",
        "\n",
        "While the ultimate goal of reinforcement learning is to teach agents to act in the real, physical world, games provide a convenient proving ground for developing RL algorithms and agents. Games have some properties that make them particularly well suited for RL: \n",
        "\n",
        "1.   In many cases, games have perfectly describable environments. For example, all rules of chess can be formally written and programmed into a chess game simulator;\n",
        "2.   Games are massively parallelizable. Since they do not require running in the real world, simultaneous environments can be run on large data clusters; \n",
        "3.   Simpler scenarios in games enable fast prototyping. This speeds up the development of algorithms that could eventually run in the real-world; and\n",
        "4.   ... Games are fun! \n",
        "\n",
        "In previous labs, we have explored both supervised (with LSTMs, CNNs) and unsupervised / semi-supervised (with VAEs) learning tasks. Reinforcement learning is fundamentally different, in that we are training a deep learning algorithm to govern the actions of our RL agent, that is trying, within its environment, to find the optimal way to achieve a goal. The goal of training an RL agent is to determine the best next step to take to earn the greatest final payoff or return. In this lab, we focus on building a reinforcement learning algorithm to master two different environments with varying complexity. \n",
        "\n",
        "1.   **Cartpole**:   Balance a pole, protruding from a cart, in an upright position by only moving the base left or right. Environment with a low-dimensional observation space.\n",
        "2.   [**Pong**](https://en.wikipedia.org/wiki/Pong): Beat your competitors (whether other AI or humans!) at the game of Pong. Environment with a high-dimensional observation space -- learning directly from raw pixels.\n",
        "\n",
        "Let's get started! First we'll import TensorFlow, the course package, and some dependencies.\n"
      ]
    },
    {
      "cell_type": "code",
      "metadata": {
        "id": "EvdePP-VyVWp",
        "colab_type": "code",
        "colab": {
          "base_uri": "https://localhost:8080/",
          "height": 170
        },
        "outputId": "43248e17-0ccf-4d9e-f29f-5abffc35534a"
      },
      "source": [
        "!apt-get install -y xvfb python-opengl x11-utils > /dev/null 2>&1\n",
        "!pip install gym pyvirtualdisplay scikit-video > /dev/null 2>&1\n",
        "\n",
        "%tensorflow_version 2.x\n",
        "import tensorflow as tf\n",
        "\n",
        "import numpy as np\n",
        "import base64, io, time, gym\n",
        "import IPython, functools\n",
        "import matplotlib.pyplot as plt\n",
        "from tqdm import tqdm\n",
        "\n",
        "!pip install mitdeeplearning\n",
        "import mitdeeplearning as mdl"
      ],
      "execution_count": 3,
      "outputs": [
        {
          "output_type": "stream",
          "text": [
            "Requirement already satisfied: mitdeeplearning in /usr/local/lib/python3.6/dist-packages (0.1.2)\n",
            "Requirement already satisfied: numpy in /usr/local/lib/python3.6/dist-packages (from mitdeeplearning) (1.18.5)\n",
            "Requirement already satisfied: tqdm in /usr/local/lib/python3.6/dist-packages (from mitdeeplearning) (4.41.1)\n",
            "Requirement already satisfied: gym in /usr/local/lib/python3.6/dist-packages (from mitdeeplearning) (0.17.2)\n",
            "Requirement already satisfied: regex in /usr/local/lib/python3.6/dist-packages (from mitdeeplearning) (2019.12.20)\n",
            "Requirement already satisfied: scipy in /usr/local/lib/python3.6/dist-packages (from gym->mitdeeplearning) (1.4.1)\n",
            "Requirement already satisfied: cloudpickle<1.4.0,>=1.2.0 in /usr/local/lib/python3.6/dist-packages (from gym->mitdeeplearning) (1.3.0)\n",
            "Requirement already satisfied: pyglet<=1.5.0,>=1.4.0 in /usr/local/lib/python3.6/dist-packages (from gym->mitdeeplearning) (1.5.0)\n",
            "Requirement already satisfied: future in /usr/local/lib/python3.6/dist-packages (from pyglet<=1.5.0,>=1.4.0->gym->mitdeeplearning) (0.16.0)\n"
          ],
          "name": "stdout"
        }
      ]
    },
    {
      "cell_type": "markdown",
      "metadata": {
        "id": "zmrHSiXKTXTY",
        "colab_type": "text"
      },
      "source": [
        "Before we dive in, let's take a step back and outline our approach, which is generally applicable to reinforcement learning problems in general:\n",
        "\n",
        "1. **Initialize our environment and our agent**: here we will describe the different observations and actions the agent can make in the environemnt.\n",
        "2. **Define our agent's memory**: this will enable the agent to remember its past actions, observations, and rewards.\n",
        "3. **Define a reward function**: describes the reward associated with an action or sequence of actions.\n",
        "4. **Define the learning algorithm**: this will be used to reinforce the agent's good behaviors and discourage bad behaviors.\n"
      ]
    },
    {
      "cell_type": "markdown",
      "metadata": {
        "id": "UT7YL8KBJIIc",
        "colab_type": "text"
      },
      "source": [
        "# Part 1: Cartpole\n",
        "\n",
        "## 3.1 Define the Cartpole environment and agent\n",
        "\n",
        "### Environment \n",
        "\n",
        "In order to model the environment for both the Cartpole and Pong tasks, we'll be using a toolkit developed by OpenAI called [OpenAI Gym](https://gym.openai.com/). It provides several pre-defined environments for training and testing reinforcement learning agents, including those for classic physics control tasks, Atari video games, and robotic simulations. To access the Cartpole environment, we can use `env = gym.make(\"CartPole-v0\")`, which we gained access to when we imported the `gym` package. We can instantiate different [environments](https://gym.openai.com/envs/#classic_control) by passing the enivronment name to the `make` function.\n",
        "\n",
        "One issue we might experience when developing RL algorithms is that many aspects of the learning process are inherently random: initializing game states, changes in the environment, and the agent's actions. As such, it can be helpful to set a initial \"seed\" for the environment to ensure some level of reproducibility. Much like you might use `numpy.random.seed`, we can call the comparable function in gym, `seed`, with our defined environment to ensure the environment's random variables are initialized the same each time."
      ]
    },
    {
      "cell_type": "code",
      "metadata": {
        "id": "quv9SC0iIYFm",
        "colab_type": "code",
        "colab": {
          "base_uri": "https://localhost:8080/",
          "height": 34
        },
        "outputId": "0ba6e1da-fb8b-4605-85d7-7c564f64e840"
      },
      "source": [
        "### Instantiate the Cartpole environment ###\n",
        "\n",
        "env = gym.make(\"CartPole-v0\")\n",
        "env.seed(1)"
      ],
      "execution_count": 4,
      "outputs": [
        {
          "output_type": "execute_result",
          "data": {
            "text/plain": [
              "[1]"
            ]
          },
          "metadata": {
            "tags": []
          },
          "execution_count": 4
        }
      ]
    },
    {
      "cell_type": "markdown",
      "metadata": {
        "id": "mhEITUcKK455",
        "colab_type": "text"
      },
      "source": [
        "In Cartpole, a pole is attached by an un-actuated joint to a cart, which moves along a frictionless track. The pole starts upright, and the goal is to prevent it from falling over. The system is controlled by applying a force of +1 or -1 to the cart. A reward of +1 is provided for every timestep that the pole remains upright. The episode ends when the pole is more than 15 degrees from vertical, or the cart moves more than 2.4 units from the center of the track. A visual summary of the cartpole environment is depicted below:\n",
        "\n",
        "<img width=\"400px\" src=\"https://danielpiedrahita.files.wordpress.com/2017/02/cart-pole.png\"></img>\n",
        "\n",
        "Given this setup for the environment and the objective of the game, we can think about: 1) what observations help define the environment's state; 2) what actions the agent can take. \n",
        "\n",
        "First, let's consider the observation space. In this Cartpole environment our observations are:\n",
        "\n",
        "1. Cart position\n",
        "2. Cart velocity\n",
        "3. Pole angle\n",
        "4. Pole rotation rate\n",
        "\n",
        "We can confirm the size of the space by querying the environment's observation space:\n"
      ]
    },
    {
      "cell_type": "code",
      "metadata": {
        "id": "UVJaEcbdIX82",
        "colab_type": "code",
        "colab": {
          "base_uri": "https://localhost:8080/",
          "height": 34
        },
        "outputId": "7addc82b-326a-4003-9d33-6bf1c817b6f7"
      },
      "source": [
        "n_observations = env.observation_space\n",
        "print(\"Environment has observation space =\", n_observations)"
      ],
      "execution_count": 5,
      "outputs": [
        {
          "output_type": "stream",
          "text": [
            "Environment has observation space = Box(4,)\n"
          ],
          "name": "stdout"
        }
      ]
    },
    {
      "cell_type": "markdown",
      "metadata": {
        "id": "ZibGgjrALgPM",
        "colab_type": "text"
      },
      "source": [
        "Second, we consider the action space. At every time step, the agent can move either right or left. Again we can confirm the size of the action space by querying the environment:"
      ]
    },
    {
      "cell_type": "code",
      "metadata": {
        "id": "qc9SIPxBIXrm",
        "colab_type": "code",
        "colab": {
          "base_uri": "https://localhost:8080/",
          "height": 34
        },
        "outputId": "9565eb1a-0871-4898-871d-8f94dd7c85dc"
      },
      "source": [
        "n_actions = env.action_space.n\n",
        "print(\"Number of possible actions that the agent can choose from =\", n_actions)"
      ],
      "execution_count": 6,
      "outputs": [
        {
          "output_type": "stream",
          "text": [
            "Number of possible actions that the agent can choose from = 2\n"
          ],
          "name": "stdout"
        }
      ]
    },
    {
      "cell_type": "markdown",
      "metadata": {
        "id": "pPfHME8aRKkb",
        "colab_type": "text"
      },
      "source": [
        "### Cartpole agent\n",
        "\n",
        "Now that we have instantiated the environment and understood the dimensionality of the observation and action spaces, we are ready to define our agent. In deep reinforcement learning, a deep neural network defines the agent. This network will take as input an observation of the environment and output the probability of taking each of the possible actions. Since Cartpole is defined by a low-dimensional observation space, a simple feed-forward neural network should work well for our agent. We will define this using the `Sequential` API.\n"
      ]
    },
    {
      "cell_type": "code",
      "metadata": {
        "id": "W-o_XK4oQ4eu",
        "colab_type": "code",
        "colab": {}
      },
      "source": [
        "### Define the Cartpole agent ###\n",
        "\n",
        "# Defines a feed-forward neural network\n",
        "def create_cartpole_model():\n",
        "  model = tf.keras.models.Sequential([\n",
        "      # First Dense layer\n",
        "      tf.keras.layers.Dense(units=32, activation='relu'),\n",
        "\n",
        "      # TODO: Define the last Dense layer, which will provide the network's output.\n",
        "      # Think about the space the agent needs to act in!\n",
        "      tf.keras.layers.Dense(units=n_actions, activation=None)\n",
        "  ])\n",
        "  return model\n",
        "\n",
        "cartpole_model = create_cartpole_model()"
      ],
      "execution_count": 7,
      "outputs": []
    },
    {
      "cell_type": "markdown",
      "metadata": {
        "id": "d5D5NSIYS2IW",
        "colab_type": "text"
      },
      "source": [
        "Now that we have defined the core network architecture, we will define an *action function* that executes a forward pass through the network, given a set of observations, and samples from the output. This sampling from the output probabilities will be used to select the next action for the agent. \n",
        "\n",
        "**Critically, this action function is totally general -- we will use this function for both Cartpole and Pong, and it is applicable to other RL tasks, as well!**"
      ]
    },
    {
      "cell_type": "code",
      "metadata": {
        "id": "E_vVZRr8Q4R_",
        "colab_type": "code",
        "colab": {}
      },
      "source": [
        "### Define the agent's action function ###\n",
        "\n",
        "# Function that takes observations as input, executes a forward pass through model, \n",
        "#   and outputs a sampled action.\n",
        "# Arguments:\n",
        "#   model: the network that defines our agent\n",
        "#   observation: observation which is fed as input to the model\n",
        "# Returns:\n",
        "#   action: choice of agent action\n",
        "def choose_action(model, observation):\n",
        "  # add batch dimension to the observation\n",
        "  observation = np.expand_dims(observation, axis=0)\n",
        "\n",
        "  '''TODO: feed the observations through the model to predict the log probabilities of each possible action.'''\n",
        "  logits = model.predict(observation)\n",
        "  \n",
        "  # pass the log probabilities through a softmax to compute true probabilities\n",
        "  prob_weights = tf.nn.softmax(logits).numpy()\n",
        "  \n",
        "  '''TODO: randomly sample from the prob_weights to pick an action.\n",
        "  Hint: carefully consider the dimensionality of the input probabilities (vector) and the output action (scalar)'''\n",
        "  action = np.random.choice(n_actions, size=1, p=prob_weights.flatten())[0]\n",
        "\n",
        "  return action"
      ],
      "execution_count": 8,
      "outputs": []
    },
    {
      "cell_type": "markdown",
      "metadata": {
        "id": "_tR9uAWcTnkr",
        "colab_type": "text"
      },
      "source": [
        "## 3.2 Define the agent's memory\n",
        "\n",
        "Now that we have instantiated the environment and defined the agent network architecture and action function, we are ready to move on to the next step in our RL workflow:\n",
        "1. **Initialize our environment and our agent**: here we will describe the different observations and actions the agent can make in the environemnt.\n",
        "2. **Define our agent's memory**: this will enable the agent to remember its past actions, observations, and rewards.\n",
        "3. **Define the learning algorithm**: this will be used to reinforce the agent's good behaviors and discourage bad behaviors.\n",
        "\n",
        "In reinforcement learning, training occurs alongside the agent's acting in the environment; an *episode* refers to a sequence of actions that ends in some terminal state, such as the pole falling down or the cart crashing. The agent will need to remember all of its observations and actions, such that once an episode ends, it can learn to \"reinforce\" the good actions and punish the undesirable actions via training. Our first step is to define a simple memory buffer that contains the agent's observations, actions, and received rewards from a given episode. \n",
        "\n",
        "**Once again, note the modularity of this memory buffer -- it can and will be applied to other RL tasks as well!**"
      ]
    },
    {
      "cell_type": "code",
      "metadata": {
        "id": "8MM6JwXVQ4JG",
        "colab_type": "code",
        "colab": {}
      },
      "source": [
        "### Agent Memory ###\n",
        "\n",
        "class Memory:\n",
        "  def __init__(self): \n",
        "      self.clear()\n",
        "\n",
        "  # Resets/restarts the memory buffer\n",
        "  def clear(self): \n",
        "      self.observations = []\n",
        "      self.actions = []\n",
        "      self.rewards = []\n",
        "\n",
        "  # Add observations, actions, rewards to memory\n",
        "  def add_to_memory(self, new_observation, new_action, new_reward): \n",
        "      self.observations.append(new_observation)\n",
        "      '''TODO: update the list of actions with new action'''\n",
        "      self.actions.append(new_action)\n",
        "      '''TODO: update the list of rewards with new reward'''\n",
        "      self.rewards.append(new_reward)\n",
        "        \n",
        "memory = Memory()"
      ],
      "execution_count": 9,
      "outputs": []
    },
    {
      "cell_type": "markdown",
      "metadata": {
        "id": "D4YhtPaUVj5m",
        "colab_type": "text"
      },
      "source": [
        "## 3.3 Reward function\n",
        "\n",
        "We're almost ready to begin the learning algorithm for our agent! The next step is to compute the rewards of our agent as it acts in the environment. Since we (and the agent) is uncertain about if and when the game or task will end (i.e., when the pole will fall), it is useful to emphasize getting rewards **now** rather than later in the future -- this is the idea of discounting. This is a similar concept to discounting money in the case of interest. ecall from lecture, we use reward discount to give more preference at getting rewards now rather than later in the future. The idea of discounting rewards is similar to discounting money in the case of interest.\n",
        "\n",
        "To compute the expected cumulative reward, known as the **return**, at a given timestep in a learning episode, we sum the discounted rewards expected at that time step $t$, within a learning episode, and projecting into the future. We define the return (cumulative reward) at a time step $t$, $R_{t}$ as:\n",
        "\n",
        ">$R_{t}=\\sum_{k=0}^\\infty\\gamma^kr_{t+k}$\n",
        "\n",
        "where  $0 < \\gamma < 1$ is the discount factor and $r_{t}$ is the reward at time step $t$, and the index $k$ increments projection into the future within a single learning episode. Intuitively, you can think of this function as depreciating any rewards received at later time steps, which will force the agent prioritize getting rewards now. Since we can't extend episodes to infinity, in practice the computation will be limited to the number of timesteps in an episode -- after that the reward is assumed to be zero.\n",
        "\n",
        "Take note of the form of this sum -- we'll have to be clever about how we implement this function. Specifically, we'll need to initialize an array of zeros, with length of the number of time steps, and fill it with the real discounted reward values as we loop through the rewards from the episode, which will have been saved in the agents memory. What we ultimately care about is which actions are better relative to other actions taken in that episode -- so, we'll normalize our computed rewards, using the mean and standard deviation of the rewards across the learning episode.\n"
      ]
    },
    {
      "cell_type": "code",
      "metadata": {
        "id": "5_Q2OFYtQ32X",
        "colab_type": "code",
        "colab": {}
      },
      "source": [
        "### Reward function ###\n",
        "\n",
        "# Helper function that normalizes an np.array x\n",
        "def normalize(x):\n",
        "  x -= np.mean(x)\n",
        "  x /= np.std(x)\n",
        "  return x.astype(np.float32)\n",
        "\n",
        "# Compute normalized, discounted, cumulative rewards (i.e., return)\n",
        "# Arguments:\n",
        "#   rewards: reward at timesteps in episode\n",
        "#   gamma: discounting factor\n",
        "# Returns:\n",
        "#   normalized discounted reward\n",
        "def discount_rewards(rewards, gamma=0.95): \n",
        "  discounted_rewards = np.zeros_like(rewards)\n",
        "  R = 0\n",
        "  for t in reversed(range(0, len(rewards))):\n",
        "      # update the total discounted reward\n",
        "      R = R * gamma + rewards[t]\n",
        "      discounted_rewards[t] = R\n",
        "      \n",
        "  return normalize(discounted_rewards)"
      ],
      "execution_count": 10,
      "outputs": []
    },
    {
      "cell_type": "markdown",
      "metadata": {
        "id": "QzbY-mjGYcmt",
        "colab_type": "text"
      },
      "source": [
        "## 3.4 Learning algorithm\n",
        "\n",
        "Now we can start to define the learing algorithm which will be used to reinforce good behaviors of the agent and discourage bad behaviours. In this lab, we will focus on *policy gradient* methods which aim to **maximize** the likelihood of actions that result in large rewards. Equivalently, this means that we want to **minimize** the negative likelihood of these same actions. We achieve this by simply **scaling** the probabilities by their associated rewards -- effectively amplifying the likelihood of actions that result in large rewards.\n",
        "\n",
        "Since the log function is monotonically increasing, this means that minimizing **negative likelihood** is equivalent to minimizing **negative log-likelihood**.  Recall that we can easily compute the negative log-likelihood of a discrete action by evaluting its [softmax cross entropy](https://www.tensorflow.org/api_docs/python/tf/nn/sparse_softmax_cross_entropy_with_logits). Like in supervised learning, we can use stochastic gradient descent methods to achieve the desired minimization. \n",
        "\n",
        "Let's begin by defining the loss function."
      ]
    },
    {
      "cell_type": "code",
      "metadata": {
        "id": "fsgZ3IDCY_Zn",
        "colab_type": "code",
        "colab": {}
      },
      "source": [
        "### Loss function ###\n",
        "\n",
        "# Arguments:\n",
        "#   logits: network's predictions for actions to take\n",
        "#   actions: the actions the agent took in an episode\n",
        "#   rewards: the rewards the agent received in an episode\n",
        "# Returns:\n",
        "#   loss\n",
        "def compute_loss(logits, actions, rewards): \n",
        "  '''TODO: complete the function call to compute the negative log probabilities'''\n",
        "  neg_logprob = tf.nn.sparse_softmax_cross_entropy_with_logits(logits=logits, labels=actions)\n",
        "  \n",
        "  '''TODO: scale the negative log probability by the rewards'''\n",
        "  loss = tf.reduce_mean(neg_logprob * rewards)\n",
        "  return loss"
      ],
      "execution_count": 11,
      "outputs": []
    },
    {
      "cell_type": "markdown",
      "metadata": {
        "id": "Rr5vQ9fqbPpp",
        "colab_type": "text"
      },
      "source": [
        "Now let's use the loss function to define a training step of our learning algorithm:"
      ]
    },
    {
      "cell_type": "code",
      "metadata": {
        "id": "_50ada7nbZ7L",
        "colab_type": "code",
        "colab": {}
      },
      "source": [
        "### Training step (forward and backpropagation) ###\n",
        "\n",
        "def train_step(model, optimizer, observations, actions, discounted_rewards):\n",
        "  with tf.GradientTape() as tape:\n",
        "      # Forward propagate through the agent network\n",
        "      logits = model(observations)\n",
        "\n",
        "      '''TODO: call the compute_loss function to compute the loss'''\n",
        "      loss = compute_loss(logits, actions, discounted_rewards)\n",
        "\n",
        "  '''TODO: run backpropagation to minimize the loss using the tape.gradient method.\n",
        "      Use `model.trainable_variables`'''\n",
        "  grads = tape.gradient(loss, model.trainable_variables)\n",
        "  optimizer.apply_gradients(zip(grads, model.trainable_variables))\n"
      ],
      "execution_count": 12,
      "outputs": []
    },
    {
      "cell_type": "markdown",
      "metadata": {
        "id": "XsjKXh6BcgjR",
        "colab_type": "text"
      },
      "source": [
        "## 3.5 Run cartpole!\n",
        "\n",
        "Having had no prior knowledge of the environment, the agent will begin to learn how to balance the pole on the cart based only on the feedback received from the environment! Having defined how our agent can move, how it takes in new observations, and how it updates its state, we'll see how it gradually learns a policy of actions to optimize balancing the pole as long as possible. To do this, we'll track how the rewards evolve as a function of training -- how should the rewards change as training progresses?"
      ]
    },
    {
      "cell_type": "code",
      "metadata": {
        "id": "XmOzc2rrcn8Q",
        "colab_type": "code",
        "colab": {
          "base_uri": "https://localhost:8080/",
          "height": 545
        },
        "outputId": "95cbcd6d-5957-4df5-8537-29d2f3d7e339"
      },
      "source": [
        "### Cartpole training! ###\n",
        "\n",
        "# Learning rate and optimizer\n",
        "learning_rate = 1e-3\n",
        "optimizer = tf.keras.optimizers.Adam(learning_rate)\n",
        "\n",
        "# instantiate cartpole agent\n",
        "cartpole_model = create_cartpole_model()\n",
        "\n",
        "# to track our progress\n",
        "smoothed_reward = mdl.util.LossHistory(smoothing_factor=0.9)\n",
        "plotter = mdl.util.PeriodicPlotter(sec=2, xlabel='Iterations', ylabel='Rewards')\n",
        "\n",
        "if hasattr(tqdm, '_instances'): tqdm._instances.clear() # clear if it exists\n",
        "for i_episode in range(1000):\n",
        "\n",
        "  plotter.plot(smoothed_reward.get())\n",
        "\n",
        "  # Restart the environment\n",
        "  observation = env.reset()\n",
        "  memory.clear()\n",
        "\n",
        "  while True:\n",
        "      # using our observation, choose an action and take it in the environment\n",
        "      action = choose_action(cartpole_model, observation)\n",
        "      next_observation, reward, done, info = env.step(action)\n",
        "      # add to memory\n",
        "      memory.add_to_memory(observation, action, reward)\n",
        "      \n",
        "      # is the episode over? did you crash or do so well that you're done?\n",
        "      if done:\n",
        "          # determine total reward and keep a record of this\n",
        "          total_reward = sum(memory.rewards)\n",
        "          smoothed_reward.append(total_reward)\n",
        "          \n",
        "          # initiate training - remember we don't know anything about how the \n",
        "          #   agent is doing until it has crashed!\n",
        "          train_step(cartpole_model, optimizer, \n",
        "                     observations=np.vstack(memory.observations),\n",
        "                     actions=np.array(memory.actions),\n",
        "                     discounted_rewards = discount_rewards(memory.rewards))\n",
        "          \n",
        "          # reset the memory\n",
        "          memory.clear()\n",
        "          break\n",
        "      # update our observatons\n",
        "      observation = next_observation"
      ],
      "execution_count": 13,
      "outputs": [
        {
          "output_type": "display_data",
          "data": {
            "image/png": "[encoded data removed]",
            "text/plain": [
              "<Figure size 432x288 with 1 Axes>"
            ]
          },
          "metadata": {
            "tags": []
          }
        },
        {
          "output_type": "display_data",
          "data": {
            "image/png": "[encoded data removed]",
            "text/plain": [
              "<Figure size 432x288 with 1 Axes>"
            ]
          },
          "metadata": {
            "tags": [],
            "needs_background": "light"
          }
        }
      ]
    },
    {
      "cell_type": "markdown",
      "metadata": {
        "id": "mkcUtGF1VE-K",
        "colab_type": "text"
      },
      "source": [
        "To get a sense of how our agent did, we can save a video of the trained model working on balancing the pole. Realize that this is a brand new environment that the agent has not seen before!\n",
        "\n",
        "Let's display the saved video to watch how our agent did!\n"
      ]
    },
    {
      "cell_type": "code",
      "metadata": {
        "id": "PAYBkv6Zbk0J",
        "colab_type": "code",
        "colab": {
          "base_uri": "https://localhost:8080/",
          "height": 438
        },
        "outputId": "2ca1b917-068c-4ee7-f01a-65c0080e0373"
      },
      "source": [
        "saved_cartpole = mdl.lab3.save_video_of_model(cartpole_model, \"CartPole-v0\")\n",
        "mdl.lab3.play_video(saved_cartpole)"
      ],
      "execution_count": 14,
      "outputs": [
        {
          "output_type": "stream",
          "text": [
            "Successfully saved 200 frames into CartPole-v0.mp4!\n"
          ],
          "name": "stdout"
        },
        {
          "output_type": "execute_result",
          "data": {
            "text/html": [
              "\n",
              "        <video controls>\n",
              "            <source src=\"data:video/mp4;base64,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\" type=\"video/mp4\" />\n",
              "        </video>"
            ],
            "text/plain": [
              "<IPython.core.display.HTML object>"
            ]
          },
          "metadata": {
            "tags": []
          },
          "execution_count": 14
        }
      ]
    },
    {
      "cell_type": "markdown",
      "metadata": {
        "id": "CSbVNDpaVb3_",
        "colab_type": "text"
      },
      "source": [
        "How does the agent perform? Could you train it for shorter amounts of time and still perform well? Do you think that training longer would help even more? "
      ]
    },
    {
      "cell_type": "markdown",
      "metadata": {
        "id": "Eu6Mqxc720ST",
        "colab_type": "text"
      },
      "source": [
        "#Part 2: Pong\n",
        "\n",
        "In Cartpole, we dealt with an environment that was static -- in other words, it didn't change over time. What happens if our environment is dynamic and unpredictable? Well that's exactly the case in [Pong](https://en.wikipedia.org/wiki/Pong), since part of the environment is the opposing player. We don't know how our opponent will act or react to our actions, so the complexity of our problem increases. It also becomes much more interesting, since we can compete to beat our opponent. RL provides a powerful framework for training AI systems with the ability to handle and interact with dynamic, unpredictable environments. In this part of the lab, we'll use the tools and workflow we explored in Part 1 to build an RL agent capable of playing the game of Pong.\n"
      ]
    },
    {
      "cell_type": "markdown",
      "metadata": {
        "id": "srZ4YE29isuA",
        "colab_type": "text"
      },
      "source": [
        "## 3.6 Define and inspect the Pong environment\n",
        "\n",
        "As with Cartpole, we'll instantiate the Pong environment in the OpenAI gym, using a seed of 1."
      ]
    },
    {
      "cell_type": "code",
      "metadata": {
        "id": "lbYHLr66i15n",
        "colab_type": "code",
        "colab": {}
      },
      "source": [
        "env = gym.make(\"Pong-v0\", frameskip=5)\n",
        "env.seed(1); # for reproducibility"
      ],
      "execution_count": 15,
      "outputs": []
    },
    {
      "cell_type": "markdown",
      "metadata": {
        "id": "52uZ2Xhyi-MW",
        "colab_type": "text"
      },
      "source": [
        "Let's next consider the observation space for the Pong environment. Instead of four physical descriptors of the cart-pole setup, in the case of Pong our observations are the individual video frames (i.e., images) that depict the state of the board. Thus, the observations are 210x160 RGB images (arrays of shape (210,160,3)).\n",
        "\n",
        "We can again confirm the size of the observation space by query:"
      ]
    },
    {
      "cell_type": "code",
      "metadata": {
        "id": "0yX4GWvxjnHS",
        "colab_type": "code",
        "colab": {
          "base_uri": "https://localhost:8080/",
          "height": 34
        },
        "outputId": "e034d5a3-00f7-4099-ccd7-9ee49a84d970"
      },
      "source": [
        "print(\"Environment has observation space =\", env.observation_space)"
      ],
      "execution_count": 16,
      "outputs": [
        {
          "output_type": "stream",
          "text": [
            "Environment has observation space = Box(210, 160, 3)\n"
          ],
          "name": "stdout"
        }
      ]
    },
    {
      "cell_type": "markdown",
      "metadata": {
        "id": "uuEC2TdSjx9D",
        "colab_type": "text"
      },
      "source": [
        "In Pong, at every time step, the agent (which controls the paddle) has six actions to choose from: no-op (no operation), move right, move left, fire, fire right, and fire left. Let's confirm the size of the action space by querying the environment:"
      ]
    },
    {
      "cell_type": "code",
      "metadata": {
        "id": "Iuy9oPc1kag3",
        "colab_type": "code",
        "colab": {
          "base_uri": "https://localhost:8080/",
          "height": 34
        },
        "outputId": "7b90926e-9b89-4d98-d06b-5bc73a7cb31b"
      },
      "source": [
        "n_actions = env.action_space.n\n",
        "print(\"Number of possible actions that the agent can choose from =\", n_actions)"
      ],
      "execution_count": 17,
      "outputs": [
        {
          "output_type": "stream",
          "text": [
            "Number of possible actions that the agent can choose from = 6\n"
          ],
          "name": "stdout"
        }
      ]
    },
    {
      "cell_type": "markdown",
      "metadata": {
        "id": "9-fghDRigUE5",
        "colab_type": "text"
      },
      "source": [
        "## 3.7 Define the Pong agent\n",
        "\n",
        "As before, we'll use a neural network to define our agent. What network architecture do you think would be especially well suited to this game? Since our observations are now in the form of images, we'll add convolutional layers to the network to increase the learning capacity of our network."
      ]
    },
    {
      "cell_type": "code",
      "metadata": {
        "id": "IJiqbFYpgYRH",
        "colab_type": "code",
        "colab": {}
      },
      "source": [
        "### Define the Pong agent ###\n",
        "\n",
        "# Functionally define layers for convenience\n",
        "# All convolutional layers will have ReLu activation\n",
        "Conv2D = functools.partial(tf.keras.layers.Conv2D, padding='same', activation='relu')\n",
        "Flatten = tf.keras.layers.Flatten\n",
        "Dense = tf.keras.layers.Dense\n",
        "\n",
        "# Defines a CNN for the Pong agent\n",
        "def create_pong_model():\n",
        "  model = tf.keras.models.Sequential([\n",
        "    # Convolutional layers\n",
        "    # First, 16 7x7 filters with 4x4 stride\n",
        "    Conv2D(filters=16, kernel_size=7, strides=4),\n",
        "\n",
        "    # TODO: define convolutional layers with 32 5x5 filters and 2x2 stride\n",
        "    Conv2D(filters=32, kernel_size=5, strides=2),\n",
        "\n",
        "    # TODO: define convolutional layers with 48 3x3 filters and 2x2 stride\n",
        "    Conv2D(filters=48, kernel_size=3, strides=2),\n",
        "\n",
        "    Flatten(),\n",
        "    \n",
        "    # Fully connected layer and output\n",
        "    Dense(units=64, activation='relu'),\n",
        "    # TODO: define the output dimension of the last Dense layer. \n",
        "    # Pay attention to the space the agent needs to act in\n",
        "    Dense(units=n_actions, activation=None)\n",
        "  \n",
        "  ])\n",
        "  return model\n",
        "\n",
        "pong_model = create_pong_model()"
      ],
      "execution_count": 18,
      "outputs": []
    },
    {
      "cell_type": "markdown",
      "metadata": {
        "id": "yaeZ067olFiJ",
        "colab_type": "text"
      },
      "source": [
        "Since we've already defined the action function, `choose_action(model, observation)`, we don't need to define it again. Instead, we'll be able to reuse it later on by passing in our new model we've just created, `pong_model`. This is awesome because our action function provides a modular and generalizable method for all sorts of RL agents!"
      ]
    },
    {
      "cell_type": "markdown",
      "metadata": {
        "id": "l0RvqOVkmc2r",
        "colab_type": "text"
      },
      "source": [
        "## 3.8 Pong-specific functions\n",
        "\n",
        "In Part 1 (Cartpole), we implemented some key functions and classes to build and train our RL agent -- `choose_action(model, observation)` and the `Memory` class, for example. However, in getting ready to apply these to a new game like Pong, we might need to make some slight modifications. \n",
        "\n",
        "Namely, we need to think about what happens when a game ends. In Pong, we know a game has ended if the reward is +1 (we won!) or -1 (we lost unfortunately). Otherwise, we expect the reward at a timestep to be zero -- the players (or agents) are just playing eachother. So, after a game ends, we will need to reset the reward to zero when a game ends. This will result in a modified reward function."
      ]
    },
    {
      "cell_type": "code",
      "metadata": {
        "id": "iEZG2o50luLu",
        "colab_type": "code",
        "colab": {}
      },
      "source": [
        "### Pong reward function ###\n",
        "\n",
        "# Compute normalized, discounted rewards for Pong (i.e., return)\n",
        "# Arguments:\n",
        "#   rewards: reward at timesteps in episode\n",
        "#   gamma: discounting factor. Note increase to 0.99 -- rate of depreciation will be slower.\n",
        "# Returns:\n",
        "#   normalized discounted reward\n",
        "def discount_rewards(rewards, gamma=0.99): \n",
        "  discounted_rewards = np.zeros_like(rewards)\n",
        "  R = 0\n",
        "  for t in reversed(range(0, len(rewards))):\n",
        "      # NEW: Reset the sum if the reward is not 0 (the game has ended!)\n",
        "      if rewards[t] != 0:\n",
        "        R = 0\n",
        "      # update the total discounted reward as before\n",
        "      R = R * gamma + rewards[t]\n",
        "      discounted_rewards[t] = R\n",
        "      \n",
        "  return normalize(discounted_rewards)"
      ],
      "execution_count": 19,
      "outputs": []
    },
    {
      "cell_type": "markdown",
      "metadata": {
        "id": "HopLpb4IoOqA",
        "colab_type": "text"
      },
      "source": [
        "Additionally, we have to consider the nature of the observations in the Pong environment, and how they will be fed into our network. Our observations in this case are images. Before we input an image into our network, we'll do a bit of pre-processing to crop and scale, clean up the background colors to a single color, and set the important game elements to a single color. Let's use this function to visualize what an observation might look like before and after pre-processing."
      ]
    },
    {
      "cell_type": "code",
      "metadata": {
        "id": "no5IIYtFm8pI",
        "colab_type": "code",
        "colab": {
          "base_uri": "https://localhost:8080/",
          "height": 384
        },
        "outputId": "a1aaface-0357-4780-ab8f-377b0fda868c"
      },
      "source": [
        "observation = env.reset()\n",
        "for i in range(30):\n",
        "  observation, _,_,_ = env.step(0)\n",
        "observation_pp = mdl.lab3.preprocess_pong(observation)\n",
        "\n",
        "f = plt.figure(figsize=(10,3))\n",
        "ax = f.add_subplot(121)\n",
        "ax2 = f.add_subplot(122)\n",
        "ax.imshow(observation); ax.grid(False);\n",
        "ax2.imshow(np.squeeze(observation_pp)); ax2.grid(False); plt.title('Preprocessed Observation');"
      ],
      "execution_count": 20,
      "outputs": [
        {
          "output_type": "display_data",
          "data": {
            "image/png": "[encoded data removed]",
            "text/plain": [
              "<Figure size 720x720 with 2 Axes>"
            ]
          },
          "metadata": {
            "tags": [],
            "needs_background": "light"
          }
        }
      ]
    },
    {
      "cell_type": "markdown",
      "metadata": {
        "id": "bYwIWC-Cz8F2",
        "colab_type": "text"
      },
      "source": [
        "What do you notice? How might these changes be important for training our RL algorithm?"
      ]
    },
    {
      "cell_type": "markdown",
      "metadata": {
        "id": "mRqcaDQ1pm3x",
        "colab_type": "text"
      },
      "source": [
        "## 3.9 Training Pong\n",
        "\n",
        "We're now all set up to start training our RL algorithm and agent for the game of Pong! We've already defined our loss function with `compute_loss`, which employs policy gradient learning, as well as our backpropagation step with `train_step` which is beautiful! We will use these functions to execute training the Pong agent. Let's walk through the training block.\n",
        "\n",
        "In Pong, rather than feeding our network one image at a time, it can actually improve performance to input the difference between two consecutive observations, which really gives us information about the movement between frames -- how the game is changing. We'll first pre-process the raw observation, `x`, and then we'll compute the difference with the image frame we saw one timestep before. \n",
        "\n",
        "This observation change will be forward propagated through our Pong agent, the CNN network model, which will then predict the next action to take based on this observation. The raw reward will be computed, and the observation, action, and reward will be recorded into memory. This will continue until a training episode, i.e., a game, ends.\n",
        "\n",
        "Then, we will compute the discounted rewards, and use this information to execute a training step. Memory will be cleared, and we will do it all over again!\n",
        "\n",
        "Let's run the code block to train our Pong agent. Note that completing training will take quite a bit of time (estimated at least a couple of hours). We will again visualize the evolution of the total reward as a function of training to get a sense of how the agent is learning."
      ]
    },
    {
      "cell_type": "code",
      "metadata": {
        "id": "xCwyQQrPnkZG",
        "colab_type": "code",
        "colab": {}
      },
      "source": [
        "### Training Pong ###\n",
        "\n",
        "# Hyperparameters\n",
        "learning_rate=1e-4\n",
        "MAX_ITERS = 1000 # increase the maximum number of episodes, since Pong is more complex!\n",
        "\n",
        "# Model and optimizer\n",
        "pong_model = create_pong_model()\n",
        "optimizer = tf.keras.optimizers.Adam(learning_rate)\n",
        "\n",
        "# plotting\n",
        "smoothed_reward = mdl.util.LossHistory(smoothing_factor=0.9)\n",
        "plotter = mdl.util.PeriodicPlotter(sec=5, xlabel='Iterations', ylabel='Rewards')\n",
        "memory = Memory()\n",
        "\n",
        "for i_episode in range(MAX_ITERS):\n",
        "\n",
        "  plotter.plot(smoothed_reward.get())\n",
        "\n",
        "  # Restart the environment\n",
        "  observation = env.reset()\n",
        "  previous_frame = mdl.lab3.preprocess_pong(observation)\n",
        "\n",
        "  while True:\n",
        "      # Pre-process image \n",
        "      current_frame = mdl.lab3.preprocess_pong(observation)\n",
        "      \n",
        "      '''TODO: determine the observation change\n",
        "      Hint: this is the difference between the past two frames'''\n",
        "      obs_change = current_frame - previous_frame\n",
        "      \n",
        "      '''TODO: choose an action for the pong model, using the frame difference, and evaluate'''\n",
        "      action = choose_action(pong_model, obs_change)\n",
        "      # Take the chosen action\n",
        "      next_observation, reward, done, info = env.step(action)\n",
        "\n",
        "      '''TODO: save the observed frame difference, the action that was taken, and the resulting reward!'''\n",
        "      memory.add_to_memory(obs_change, action, reward)\n",
        "      \n",
        "      # is the episode over? did you crash or do so well that you're done?\n",
        "      if done:\n",
        "          # determine total reward and keep a record of this\n",
        "          total_reward = sum(memory.rewards)\n",
        "          smoothed_reward.append( total_reward )\n",
        "\n",
        "          # begin training\n",
        "          train_step(pong_model, \n",
        "                     optimizer, \n",
        "                     observations = np.stack(memory.observations, 0), \n",
        "                     actions = np.array(memory.actions),\n",
        "                     discounted_rewards = discount_rewards(memory.rewards))\n",
        "          \n",
        "          memory.clear()\n",
        "          break\n",
        "\n",
        "      observation = next_observation\n",
        "      previous_frame = current_frame"
      ],
      "execution_count": null,
      "outputs": []
    },
    {
      "cell_type": "markdown",
      "metadata": {
        "id": "8LiEY5Y_ts-Z",
        "colab_type": "text"
      },
      "source": [
        "Finally we can put our trained agent to the test! It will play in a newly instantiated Pong environment against the \"computer\", a base AI system for Pong. Your agent plays as the green paddle. Let's watch the match instant replay!"
      ]
    },
    {
      "cell_type": "code",
      "metadata": {
        "id": "TvHXbkL0tR6M",
        "colab_type": "code",
        "colab": {}
      },
      "source": [
        "saved_pong = mdl.lab3.save_video_of_model(\n",
        "    pong_model, \"Pong-v0\", obs_diff=True, \n",
        "    pp_fn=mdl.lab3.preprocess_pong)\n",
        "mdl.lab3.play_video(saved_pong)"
      ],
      "execution_count": null,
      "outputs": []
    },
    {
      "cell_type": "markdown",
      "metadata": {
        "id": "TIlwIgBP3Js6",
        "colab_type": "text"
      },
      "source": [
        "## 3.10 Conclusion\n",
        "\n",
        "That's it! Congratulations on training two RL agents and putting them to the test! We encourage you to consider the following:\n",
        "\n",
        "*   How does the agent perform?\n",
        "*   Could you train it for shorter amounts of time  and still perform well?\n",
        "*   Do you think that training longer would help even more? \n",
        "* How does the complexity of Pong relative to Cartpole alter the rate at which the agent learns and its performance? \n",
        "* What are some things you could change about the agent or the learning process to potentially improve performance?\n",
        "\n",
        "If you want to go further, try to optimize your model to achieve the best performance! **[Email us](mailto:introtodeeplearning-staff@mit.edu) a copy of your notebook with the Pong training executed AND a saved video of your Pong agent competing! We'll give out prizes to the best performers!**"
      ]
    }
  ]
}